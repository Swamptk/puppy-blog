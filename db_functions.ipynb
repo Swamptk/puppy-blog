{
 "cells": [
  {
   "cell_type": "code",
   "execution_count": 1,
   "metadata": {},
   "outputs": [],
   "source": [
    "from project import app, db\n",
    "from project.models import User, BlogPost"
   ]
  },
  {
   "cell_type": "markdown",
   "metadata": {},
   "source": [
    "#### **`List users`**\n"
   ]
  },
  {
   "cell_type": "code",
   "execution_count": 2,
   "metadata": {},
   "outputs": [
    {
     "name": "stdout",
     "output_type": "stream",
     "text": [
      "User: sadsnake392 | email: flaviana.darocha@example.com\n",
      "User: redgoose667 | email: emilia.annala@example.com\n",
      "User: purplebear461 | email: theo.abraham@example.com\n",
      "User: heavyduck216 | email: lieselotte.senft@example.com\n",
      "User: crazyostrich484 | email: cathy.hawkins@example.com\n"
     ]
    }
   ],
   "source": [
    "with app.app_context():\n",
    "    users = User.query.all()\n",
    "print(*users, sep=\"\\n\")"
   ]
  },
  {
   "cell_type": "markdown",
   "metadata": {},
   "source": [
    "#### **`clear_users`**\n",
    "Delete every user in the db"
   ]
  },
  {
   "cell_type": "code",
   "execution_count": 15,
   "metadata": {},
   "outputs": [
    {
     "name": "stdout",
     "output_type": "stream",
     "text": [
      "yellowgorilla778.jpg\n",
      "blackrabbit637.jpg\n",
      "default_profile.png\n",
      "whiteostrich199.jpg\n",
      "heavybutterfly791.jpg\n",
      "greenbear274.jpg\n"
     ]
    }
   ],
   "source": [
    "import os\n",
    "\n",
    "\n",
    "def clear_users():\n",
    "    with app.app_context():\n",
    "        users: list[User] = User.query.all()\n",
    "        for user in users:\n",
    "            db.session.delete(user)\n",
    "        db.session.commit()\n",
    "    os.remove(\"./generated_users.txt\")\n",
    "    for pic in os.listdir(\"./project/static/profile_imgs/\"):\n",
    "        if pic != \"default_profile.png\":\n",
    "            os.remove(os.path.join(\"./project/static/profile_imgs/\", pic))\n",
    "\n",
    "\n",
    "clear_users()"
   ]
  },
  {
   "cell_type": "markdown",
   "metadata": {},
   "source": [
    "#### **`clear_blogs`**\n",
    "Delete every blog post in the db"
   ]
  },
  {
   "cell_type": "code",
   "execution_count": 3,
   "metadata": {},
   "outputs": [],
   "source": [
    "def clear_blogs():\n",
    "    with app.app_context():\n",
    "        blogs = BlogPost.query.all()\n",
    "        for b in blogs:\n",
    "            db.session.delete(b)\n",
    "        db.session.commit()\n",
    "\n",
    "\n",
    "clear_blogs()"
   ]
  },
  {
   "cell_type": "markdown",
   "metadata": {},
   "source": [
    "#### **`create_users`**\n",
    "\n",
    "Create `n` random users "
   ]
  },
  {
   "cell_type": "code",
   "execution_count": 1,
   "metadata": {},
   "outputs": [
    {
     "name": "stdout",
     "output_type": "stream",
     "text": [
      "<Response [200]>\n",
      "<Response [200]>\n",
      "<Response [200]>\n",
      "<Response [200]>\n",
      "<Response [200]>\n"
     ]
    }
   ],
   "source": [
    "from utils.user_gen import create_users\n",
    "\n",
    "n = 5\n",
    "base_url = \"http://127.0.0.1:5000\"\n",
    "create_users(base_url, n)"
   ]
  },
  {
   "cell_type": "markdown",
   "metadata": {},
   "source": [
    "#### **`create_posts`**\n",
    "Creates posts for random existing users using the default posts inside `posts.json`."
   ]
  },
  {
   "cell_type": "code",
   "execution_count": 5,
   "metadata": {},
   "outputs": [
    {
     "name": "stdout",
     "output_type": "stream",
     "text": [
      "<Response [200]>\n",
      "<Response [200]>\n",
      "<Response [200]>\n",
      "<Response [200]>\n",
      "<Response [200]>\n",
      "<Response [200]>\n",
      "<Response [200]>\n",
      "<Response [200]>\n",
      "<Response [200]>\n",
      "<Response [200]>\n",
      "<Response [200]>\n",
      "<Response [200]>\n"
     ]
    }
   ],
   "source": [
    "from utils.post_gen import create_posts\n",
    "\n",
    "posts_file = \"./utils/posts.json\"\n",
    "base_url = \"http://127.0.0.1:5000\"\n",
    "create_posts(base_url, posts_file)"
   ]
  }
 ],
 "metadata": {
  "kernelspec": {
   "display_name": "pyflask",
   "language": "python",
   "name": "python3"
  },
  "language_info": {
   "codemirror_mode": {
    "name": "ipython",
    "version": 3
   },
   "file_extension": ".py",
   "mimetype": "text/x-python",
   "name": "python",
   "nbconvert_exporter": "python",
   "pygments_lexer": "ipython3",
   "version": "3.11.5"
  }
 },
 "nbformat": 4,
 "nbformat_minor": 2
}
