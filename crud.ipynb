{
 "cells": [
  {
   "cell_type": "code",
   "execution_count": 9,
   "metadata": {},
   "outputs": [
    {
     "ename": "ModuleNotFoundError",
     "evalue": "No module named 'project'",
     "output_type": "error",
     "traceback": [
      "\u001b[0;31m---------------------------------------------------------------------------\u001b[0m",
      "\u001b[0;31mModuleNotFoundError\u001b[0m                       Traceback (most recent call last)",
      "\u001b[1;32m/home/valero/Documentos/Courses/Flask-Bootcamp-master/08-Social-Blog-Project/CodeAlongProject/utils/crud.ipynb Cell 1\u001b[0m line \u001b[0;36m1\n\u001b[0;32m----> <a href='vscode-notebook-cell:/home/valero/Documentos/Courses/Flask-Bootcamp-master/08-Social-Blog-Project/CodeAlongProject/utils/crud.ipynb#W0sZmlsZQ%3D%3D?line=0'>1</a>\u001b[0m \u001b[39mfrom\u001b[39;00m \u001b[39mproject\u001b[39;00m \u001b[39mimport\u001b[39;00m app\n\u001b[1;32m      <a href='vscode-notebook-cell:/home/valero/Documentos/Courses/Flask-Bootcamp-master/08-Social-Blog-Project/CodeAlongProject/utils/crud.ipynb#W0sZmlsZQ%3D%3D?line=1'>2</a>\u001b[0m \u001b[39mfrom\u001b[39;00m \u001b[39mproject\u001b[39;00m\u001b[39m.\u001b[39;00m\u001b[39mmodels\u001b[39;00m \u001b[39mimport\u001b[39;00m User, BlogPost\n",
      "\u001b[0;31mModuleNotFoundError\u001b[0m: No module named 'project'"
     ]
    }
   ],
   "source": [
    "from project import app, db\n",
    "from project.models import User, BlogPost"
   ]
  },
  {
   "cell_type": "markdown",
   "metadata": {},
   "source": [
    "#### **`List users`**\n"
   ]
  },
  {
   "cell_type": "code",
   "execution_count": 5,
   "metadata": {},
   "outputs": [
    {
     "name": "stdout",
     "output_type": "stream",
     "text": [
      "User: sadsnake392 | email: flaviana.darocha@example.com\n",
      "User: redgoose667 | email: emilia.annala@example.com\n",
      "User: purplebear461 | email: theo.abraham@example.com\n",
      "User: heavyduck216 | email: lieselotte.senft@example.com\n",
      "User: crazyostrich484 | email: cathy.hawkins@example.com\n"
     ]
    }
   ],
   "source": [
    "with app.app_context():\n",
    "    users = User.query.all()\n",
    "print(*users, sep=\"\\n\")"
   ]
  },
  {
   "cell_type": "markdown",
   "metadata": {},
   "source": [
    "#### **`clear_users`**\n",
    "Delete every user in the db"
   ]
  },
  {
   "cell_type": "code",
   "execution_count": 15,
   "metadata": {},
   "outputs": [
    {
     "name": "stdout",
     "output_type": "stream",
     "text": [
      "yellowgorilla778.jpg\n",
      "blackrabbit637.jpg\n",
      "default_profile.png\n",
      "whiteostrich199.jpg\n",
      "heavybutterfly791.jpg\n",
      "greenbear274.jpg\n"
     ]
    }
   ],
   "source": [
    "import os\n",
    "\n",
    "\n",
    "def clear_users():\n",
    "    with app.app_context():\n",
    "        users: list[User] = User.query.all()\n",
    "        for user in users:\n",
    "            db.session.delete(user)\n",
    "        db.session.commit()\n",
    "    os.remove(\"./generated_users.txt\")\n",
    "    for pic in os.listdir(\"./project/static/profile_imgs/\"):\n",
    "        if pic != \"default_profile.png\":\n",
    "            os.remove(os.path.join(\"./project/static/profile_imgs/\", pic))\n",
    "\n",
    "\n",
    "clear_users()"
   ]
  },
  {
   "cell_type": "markdown",
   "metadata": {},
   "source": [
    "#### **`clear_blogs`**\n",
    "Delete every blog post in the db"
   ]
  },
  {
   "cell_type": "code",
   "execution_count": 1,
   "metadata": {},
   "outputs": [
    {
     "ename": "NameError",
     "evalue": "name 'app' is not defined",
     "output_type": "error",
     "traceback": [
      "\u001b[0;31m---------------------------------------------------------------------------\u001b[0m",
      "\u001b[0;31mNameError\u001b[0m                                 Traceback (most recent call last)",
      "\u001b[1;32m/home/valero/Documentos/Courses/Flask-Bootcamp-master/08-Social-Blog-Project/CodeAlongProject/utils/crud.ipynb Cell 7\u001b[0m line \u001b[0;36m9\n\u001b[1;32m      <a href='vscode-notebook-cell:/home/valero/Documentos/Courses/Flask-Bootcamp-master/08-Social-Blog-Project/CodeAlongProject/utils/crud.ipynb#W6sZmlsZQ%3D%3D?line=4'>5</a>\u001b[0m             db\u001b[39m.\u001b[39msession\u001b[39m.\u001b[39mdelete(b)\n\u001b[1;32m      <a href='vscode-notebook-cell:/home/valero/Documentos/Courses/Flask-Bootcamp-master/08-Social-Blog-Project/CodeAlongProject/utils/crud.ipynb#W6sZmlsZQ%3D%3D?line=5'>6</a>\u001b[0m         db\u001b[39m.\u001b[39msession\u001b[39m.\u001b[39mcommit()\n\u001b[0;32m----> <a href='vscode-notebook-cell:/home/valero/Documentos/Courses/Flask-Bootcamp-master/08-Social-Blog-Project/CodeAlongProject/utils/crud.ipynb#W6sZmlsZQ%3D%3D?line=8'>9</a>\u001b[0m clear_blogs()\n",
      "\u001b[1;32m/home/valero/Documentos/Courses/Flask-Bootcamp-master/08-Social-Blog-Project/CodeAlongProject/utils/crud.ipynb Cell 7\u001b[0m line \u001b[0;36m2\n\u001b[1;32m      <a href='vscode-notebook-cell:/home/valero/Documentos/Courses/Flask-Bootcamp-master/08-Social-Blog-Project/CodeAlongProject/utils/crud.ipynb#W6sZmlsZQ%3D%3D?line=0'>1</a>\u001b[0m \u001b[39mdef\u001b[39;00m \u001b[39mclear_blogs\u001b[39m():\n\u001b[0;32m----> <a href='vscode-notebook-cell:/home/valero/Documentos/Courses/Flask-Bootcamp-master/08-Social-Blog-Project/CodeAlongProject/utils/crud.ipynb#W6sZmlsZQ%3D%3D?line=1'>2</a>\u001b[0m     \u001b[39mwith\u001b[39;00m app\u001b[39m.\u001b[39mapp_context():\n\u001b[1;32m      <a href='vscode-notebook-cell:/home/valero/Documentos/Courses/Flask-Bootcamp-master/08-Social-Blog-Project/CodeAlongProject/utils/crud.ipynb#W6sZmlsZQ%3D%3D?line=2'>3</a>\u001b[0m         blogs \u001b[39m=\u001b[39m BlogPost\u001b[39m.\u001b[39mquery\u001b[39m.\u001b[39mall()\n\u001b[1;32m      <a href='vscode-notebook-cell:/home/valero/Documentos/Courses/Flask-Bootcamp-master/08-Social-Blog-Project/CodeAlongProject/utils/crud.ipynb#W6sZmlsZQ%3D%3D?line=3'>4</a>\u001b[0m         \u001b[39mfor\u001b[39;00m b \u001b[39min\u001b[39;00m blogs:\n",
      "\u001b[0;31mNameError\u001b[0m: name 'app' is not defined"
     ]
    }
   ],
   "source": [
    "def clear_blogs():\n",
    "    with app.app_context():\n",
    "        blogs = BlogPost.query.all()\n",
    "        for b in blogs:\n",
    "            db.session.delete(b)\n",
    "        db.session.commit()\n",
    "\n",
    "\n",
    "clear_blogs()"
   ]
  },
  {
   "cell_type": "markdown",
   "metadata": {},
   "source": [
    "#### **`create_users`**\n",
    "\n",
    "Create `n` random users "
   ]
  },
  {
   "cell_type": "code",
   "execution_count": 1,
   "metadata": {},
   "outputs": [
    {
     "name": "stdout",
     "output_type": "stream",
     "text": [
      "<Response [200]>\n",
      "<Response [200]>\n",
      "<Response [200]>\n",
      "<Response [200]>\n",
      "<Response [200]>\n"
     ]
    }
   ],
   "source": [
    "from utils.user_gen import create_users\n",
    "\n",
    "n = 5\n",
    "base_url = \"http://127.0.0.1:5000\"\n",
    "create_users(base_url, n)"
   ]
  },
  {
   "cell_type": "markdown",
   "metadata": {},
   "source": [
    "#### **`create_posts`**\n",
    "Creates posts for random existing users using the default posts inside `posts.json`."
   ]
  },
  {
   "cell_type": "code",
   "execution_count": null,
   "metadata": {},
   "outputs": [],
   "source": [
    "from utils.post_gen import create_posts\n",
    "\n",
    "posts_file = \"./posts.json\"\n",
    "base_url = \"http://127.0.0.1:5000\"\n",
    "create_posts(base_url, posts_file)"
   ]
  }
 ],
 "metadata": {
  "kernelspec": {
   "display_name": "pyflask",
   "language": "python",
   "name": "python3"
  },
  "language_info": {
   "codemirror_mode": {
    "name": "ipython",
    "version": 3
   },
   "file_extension": ".py",
   "mimetype": "text/x-python",
   "name": "python",
   "nbconvert_exporter": "python",
   "pygments_lexer": "ipython3",
   "version": "3.11.5"
  }
 },
 "nbformat": 4,
 "nbformat_minor": 2
}
